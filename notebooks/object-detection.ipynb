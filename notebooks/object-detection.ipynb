{
 "cells": [
  {
   "cell_type": "markdown",
   "id": "35fe1e3d",
   "metadata": {},
   "source": [
    "# Training the Object Detection Model\n",
    "\n",
    "This notebook holds the logic to teain an object detection model for detecting biomarkers from hair root micrographs."
   ]
  },
  {
   "cell_type": "code",
   "execution_count": null,
   "metadata": {},
   "outputs": [],
   "source": [
    "from imageai.Detection.Custom import DetectionModelTrainer\n",
    "from imageai.Detection.Custom import CustomObjectDetection\n",
    "import boto3\n",
    "import botocore\n",
    "import pandas as pd\n",
    "import cv2\n",
    "import os\n",
    "import random\n",
    "import logging\n",
    "import json"
   ]
  },
  {
   "cell_type": "markdown",
   "metadata": {},
   "source": [
    "Let's define variables that we will need in the following code snippets."
   ]
  },
  {
   "cell_type": "code",
   "execution_count": null,
   "metadata": {},
   "outputs": [],
   "source": [
    "labelling_filenames = ['Add your labelling csv files']\n",
    "allowed_labels = ['Add your labels']\n",
    "images_bucket_name = 'your-img-bucket'\n",
    "training_data_directory = 'your-training-data-dir'"
   ]
  },
  {
   "cell_type": "markdown",
   "metadata": {},
   "source": [
    "We need to separate the data into training and validation datasets. We will use a randomizer to divide the data about 20/80 between validation and training data. The data from given csv file will be converted to the YOLO format and the corresponding images will be downloaded from S3."
   ]
  },
  {
   "cell_type": "code",
   "execution_count": null,
   "metadata": {},
   "outputs": [],
   "source": [
    "s3 = boto3.resource('s3')\n",
    "img_bucket = s3.Bucket(images_bucket_name)\n",
    "\n",
    "def download_image_from_bucket(key: str, filename:str):\n",
    "    try:\n",
    "        img_bucket.download_file(key, filename)\n",
    "    except botocore.exceptions.ClientError as e:\n",
    "        if e.response['Error']['Code'] == \"404\":\n",
    "            print(\"The object does not exist.\")\n",
    "        else:\n",
    "            raise\n",
    "\n",
    "def minmax_label_to_yolo(label, image_height, image_width):\n",
    "    yolo_label = []\n",
    "    if label['label'] == 'Class1':\n",
    "        class_index = '0'\n",
    "    elif label['label'] == 'Class2':\n",
    "        class_index = '1'\n",
    "    elif label['label'] == 'Class3':\n",
    "        class_index = '2'\n",
    "    else:\n",
    "        print('No such class being trained: ' + label['label'])\n",
    "    \n",
    "    label_width_in_pixels = label['x2']-label['x1']\n",
    "    label_height_in_pixels = label['y2']-label['y1']\n",
    "    yolo_label.append(class_index)\n",
    "    yolo_label.append(str(round((label['x1'] + label_width_in_pixels / 2) / image_width, 5)))\n",
    "    yolo_label.append(str(round((label['y1'] + label_height_in_pixels / 2) / image_height, 5)))\n",
    "    yolo_label.append(str(round(label_width_in_pixels / image_width, 5)))\n",
    "    yolo_label.append(str(round(label_height_in_pixels / image_height, 5)))\n",
    "\n",
    "    return ' '.join(yolo_label)\n",
    "\n",
    "def load_training_data(csv_path):\n",
    "    df = pd.read_csv(csv_path)\n",
    "\n",
    "    for index, row in df.iterrows():\n",
    "        if random.uniform(0, 1) > 0.2:\n",
    "            directory_path = training_data_directory + '/train/'\n",
    "        else:\n",
    "            directory_path = training_data_directory + '/validation/'\n",
    "\n",
    "        filename = row['image'].split('/')[-1]\n",
    "        labels = json.loads(row['label'])\n",
    "        labels = list(filter(lambda x: x['label'] in allowed_labels, labels))\n",
    "\n",
    "        image_folder = f'{directory_path}images/'\n",
    "        image_path = f'{image_folder}{filename}'\n",
    "        download_image_from_bucket(row['image'], image_path)\n",
    "        image = cv2.imread(image_path)\n",
    "\n",
    "        yolo_labels = []\n",
    "        for label in labels:\n",
    "\n",
    "            yolo_label = minmax_label_to_yolo(label, image.shape[0], image.shape[1])\n",
    "            if len(yolo_labels) > 0:\n",
    "                yolo_label = '\\n' + yolo_label\n",
    "            yolo_labels.append(yolo_label)\n",
    "\n",
    "        labels_path = directory_path + 'annotations/'\n",
    "        labels_file = filename.replace('.jpg', '.txt')\n",
    "        with open(labels_path + labels_file, 'w') as f:\n",
    "            f.writelines(yolo_labels)"
   ]
  },
  {
   "cell_type": "code",
   "execution_count": null,
   "metadata": {},
   "outputs": [],
   "source": [
    "for filename in labelling_filenames:\n",
    "    load_training_data(filename)"
   ]
  },
  {
   "cell_type": "code",
   "execution_count": null,
   "metadata": {},
   "outputs": [],
   "source": [
    "trainer = DetectionModelTrainer()\n",
    "trainer.setModelTypeAsYOLOv3()\n",
    "trainer.setDataDirectory(data_directory=training_data_directory)\n",
    "trainer.setTrainConfig(object_names_array=['your-class-names'], batch_size=16, num_experiments=200, train_from_pretrained_model='yolov3.pt')\n",
    "trainer.trainModel()"
   ]
  },
  {
   "cell_type": "code",
   "execution_count": null,
   "metadata": {},
   "outputs": [],
   "source": [
    "trainer = DetectionModelTrainer()\n",
    "trainer.setModelTypeAsYOLOv3()\n",
    "trainer.setDataDirectory(data_directory=training_data_directory)\n",
    "trainer.evaluateModel(model_path=f\"{training_data_directory}/models\", json_path=f\"{training_data_directory}/json/object_detection_training_data_yolov3_detection_config.json\", iou_threshold=0.5, object_threshold=0.9, nms_threshold=0.5)"
   ]
  },
  {
   "cell_type": "code",
   "execution_count": null,
   "metadata": {},
   "outputs": [],
   "source": [
    "detector = CustomObjectDetection()\n",
    "detector.setModelTypeAsYOLOv3()\n",
    "detector.setModelPath(f'{training_data_directory}/models/yolov3_object_detection_training_data_mAP-0.17144_epoch-11.pt')\n",
    "detector.setJsonPath(f'{training_data_directory}/json/object_detection_training_data_yolov3_detection_config.json')\n",
    "detector.loadModel()\n",
    "\n",
    "for filename in os.listdir(f'{training_data_directory}/validation/images'):\n",
    "    detections = detector.detectObjectsFromImage(input_image=f'{training_data_directory}/validation/images/{filename}', output_image_path=f'detected/{filename}', minimum_percentage_probability=5)\n",
    "    print(detections)"
   ]
  }
 ],
 "metadata": {
  "kernelspec": {
   "display_name": "machine-learning",
   "language": "python",
   "name": "machine-learning"
  },
  "language_info": {
   "codemirror_mode": {
    "name": "ipython",
    "version": 3
   },
   "file_extension": ".py",
   "mimetype": "text/x-python",
   "name": "python",
   "nbconvert_exporter": "python",
   "pygments_lexer": "ipython3",
   "version": "3.10.6"
  }
 },
 "nbformat": 4,
 "nbformat_minor": 5
}
