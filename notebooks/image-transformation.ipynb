{
 "cells": [
  {
   "cell_type": "markdown",
   "id": "5e27d804",
   "metadata": {},
   "source": [
    "# Applying Image Transformations With Bounding Boxes\n",
    "\n",
    "At the core of this notebook we will use [imgaug](https://github.com/aleju/imgaug) library. Author has published [tutorials](https://nbviewer.org/github/aleju/imgaug-doc/tree/master/notebooks/) on the use of the library and [documentation](https://imgaug.readthedocs.io/en/latest/index.html) is available as well.\n",
    "\n",
    "The inspiration for this document was taken from a tutorial available at [link](https://github.com/asetkn/Tutorial-Image-and-Multiple-Bounding-Boxes-Augmentation-for-Deep-Learning-in-4-Steps/blob/master/Tutorial-Image-and-Multiple-Bounding-Boxes-Augmentation-for-Deep-Learning-in-4-Steps.ipynb)"
   ]
  },
  {
   "cell_type": "code",
   "execution_count": null,
   "id": "d9e60c21",
   "metadata": {},
   "outputs": [],
   "source": [
    "%matplotlib inline\n",
    "from PIL import Image\n",
    "import matplotlib.pyplot as plt\n",
    "\n",
    "import imgaug as ia\n",
    "from imgaug.augmentables.bbs import BoundingBox, BoundingBoxesOnImage\n",
    "from imgaug import augmenters as iaa\n",
    "ia.seed(1)\n",
    "\n",
    "import pandas as pd\n",
    "import numpy as np\n",
    "import re\n",
    "import json\n",
    "import io\n",
    "import os\n",
    "import boto3"
   ]
  },
  {
   "cell_type": "code",
   "execution_count": null,
   "metadata": {},
   "outputs": [],
   "source": [
    "images_bucket_name = '<your-image-bucket>'\n",
    "labelling_data_bucket_name = '<your-labelling-bucket>'\n",
    "\n",
    "resized_image_path_prefix = 'resized'\n",
    "transformed_image_path_prefix = 'transformed'\n",
    "max_dimension = 416\n",
    "\n",
    "labelling_data_filename = '<your-labelling-data>'\n",
    "resized_data_bucket_path = f'{resized_image_path_prefix}/{labelling_data_filename}'\n",
    "transformed_data_bucket_path = f'{transformed_image_path_prefix}/{labelling_data_filename}'\n",
    "resized_data_filename = f'resized-{labelling_data_filename}'\n",
    "transformed_data_filename = f'transformed-{labelling_data_filename}'"
   ]
  },
  {
   "cell_type": "markdown",
   "id": "58d94a0b",
   "metadata": {},
   "source": [
    "Let's write functions for importing and saving images and labelling data by key from and to S3. \n",
    "\n",
    "**NB!** Please note that this assumes the correct AWS region and credentials are set as default in your home `.aws/config` and `.aws/credentials` files."
   ]
  },
  {
   "cell_type": "code",
   "execution_count": null,
   "id": "a572957d",
   "metadata": {},
   "outputs": [],
   "source": [
    "s3 = boto3.resource('s3')\n",
    "img_bucket = s3.Bucket(images_bucket_name)\n",
    "labels_bucket = s3.Bucket(labelling_data_bucket_name)\n",
    "\n",
    "def get_image_from_bucket(key: str):\n",
    "    object = img_bucket.Object(key)\n",
    "    response_body = object.get()['Body']\n",
    "\n",
    "    im = Image.open(response_body)\n",
    "\n",
    "    return np.array(im)\n",
    "\n",
    "def save_image_to_bucket(key: str, image_array):\n",
    "    image_pil = Image.fromarray(image_array)\n",
    "    \n",
    "    image_buffer = io.BytesIO()\n",
    "    image_pil.save(image_buffer, format='JPEG') \n",
    "    \n",
    "    image_buffer.seek(0)\n",
    "    \n",
    "    img_bucket.upload_fileobj(image_buffer, key)\n",
    "\n",
    "    image_buffer.close()\n",
    "    \n",
    "    print(f\"Image uploaded to S3 bucket: {img_bucket.name}, key: {key}\")\n",
    "\n",
    "def get_resized_labelling_data():\n",
    "    if os.path.isfile(resized_data_filename) is False:\n",
    "        object = labels_bucket.Object(resized_data_bucket_path)\n",
    "        content_bytes = object.get()['Body'].read()\n",
    "\n",
    "        with open(resized_data_filename, 'wb') as local_file:\n",
    "            local_file.write(content_bytes)\n",
    "\n",
    "    return pd.read_csv(resized_data_filename)\n",
    "\n",
    "def save_labelling_data_as_csv(bucket_key: str, filename: str, df):\n",
    "    df.to_csv(filename, index=False, encoding='utf-8')\n",
    "    labels_bucket.upload_file(filename, bucket_key)\n",
    "\n",
    "    print(f\"DataFrame uploaded to S3: {labels_bucket.name}, key: {bucket_key}\")"
   ]
  },
  {
   "cell_type": "markdown",
   "id": "5ceda374",
   "metadata": {},
   "source": [
    "Now we will read the csv file containing labelling data and transform it to a form of our liking.\n",
    "\n",
    "We originally have the full S3 path, but we need just the key, so we will transform the `image` column to only hold the part after bucket name."
   ]
  },
  {
   "cell_type": "code",
   "execution_count": null,
   "id": "8f006deb",
   "metadata": {},
   "outputs": [],
   "source": [
    "labeldf = pd.read_csv(labelling_data_filename, usecols=['image', 'label'])\n",
    "\n",
    "labeldf['image'] = labeldf['image'].str.replace(f's3://{images_bucket_name}/', '')\n",
    "\n",
    "def transform_labels(labels):\n",
    "    for label in labels:\n",
    "        original_x = label['x']\n",
    "        original_y = label['y']\n",
    "\n",
    "        label['x'] = round(label['x'] * label['original_width'] / 100)\n",
    "        label['y'] = round(label['y'] * label['original_height'] / 100)\n",
    "        \n",
    "        label['xMax'] = round((label['width'] + original_x) * label['original_width'] / 100)\n",
    "        label.pop('width')\n",
    "        label['yMax'] = round((label['height'] + original_y) * label['original_height'] / 100)\n",
    "        label.pop('height')\n",
    "\n",
    "        label['rectanglelabels'] = label['rectanglelabels'][0].split(' / ')[-1]\n",
    "\n",
    "    return labels\n"
   ]
  },
  {
   "cell_type": "markdown",
   "id": "72a69fb3",
   "metadata": {},
   "source": [
    "## Resizing Images\n",
    "\n",
    "In order to ensure that our GPU can handle using these images, and some of them can be quite large, we want to resize them together with their corresponding labels.\n",
    "\n",
    "First step is to get the bounding boxes array from the label value dictionary that we have in our labels dataframe."
   ]
  },
  {
   "cell_type": "code",
   "execution_count": null,
   "id": "1bda2cf2",
   "metadata": {},
   "outputs": [],
   "source": [
    "class NumpyFloatValuesEncoder(json.JSONEncoder):\n",
    "    def default(self, obj):\n",
    "        if isinstance(obj, np.float32):\n",
    "            return float(obj)\n",
    "        return json.JSONEncoder.default(self, obj)\n",
    "\n",
    "def get_bounding_boxes_from_label_studio_labels(labels):\n",
    "    return [\n",
    "        BoundingBox(x1=l['x'], y1=l['y'], x2=l['xMax'], y2=l['yMax'], label=l['rectanglelabels'])\n",
    "        for l in transform_labels(labels)\n",
    "    ]\n",
    "\n",
    "def get_bounding_boxes_from_labels(labels):\n",
    "    return [\n",
    "        BoundingBox(x1=l['x1'], y1=l['y1'], x2=l['x2'], y2=l['y2'], label=l['label'])\n",
    "        for l in labels\n",
    "    ]\n",
    "\n",
    "def get_labels_from_bounding_boxes(bbs):\n",
    "    return [\n",
    "        {'x1': bbox.x1, 'y1': bbox.y1, 'x2': bbox.x2, 'y2': bbox.y2, 'label': bbox.label} \n",
    "        for bbox in bbs\n",
    "    ]"
   ]
  },
  {
   "cell_type": "markdown",
   "id": "700e4ff0",
   "metadata": {},
   "source": [
    "Now we create resizers. These are used when an image height or width are larger than the given maximum."
   ]
  },
  {
   "cell_type": "code",
   "execution_count": null,
   "id": "50bf4f52",
   "metadata": {},
   "outputs": [],
   "source": [
    "height_resize = iaa.Sequential([ \n",
    "    iaa.Resize({\"height\": max_dimension, \"width\": 'keep-aspect-ratio'})\n",
    "])\n",
    "\n",
    "width_resize = iaa.Sequential([ \n",
    "    iaa.Resize({\"height\": 'keep-aspect-ratio', \"width\": max_dimension})\n",
    "])"
   ]
  },
  {
   "cell_type": "markdown",
   "id": "eb4b8ea5",
   "metadata": {},
   "source": [
    "Let's add a method to resize the image together with its bounding boxes and create a new dataframe with labels.\n",
    "\n",
    "This will also populate the image bucket with the new resized images, at the path prefixed by the previously set `resized_image_path_prefix` value."
   ]
  },
  {
   "cell_type": "code",
   "execution_count": null,
   "id": "16a28360",
   "metadata": {},
   "outputs": [],
   "source": [
    "def resize_imgaug(df):\n",
    "    \n",
    "    aug_img_label_array = [] \n",
    "    \n",
    "    for index, row in df.iterrows():\n",
    "\n",
    "        if (isinstance(row['label'], float)):\n",
    "            image_labels = []\n",
    "        else:\n",
    "            image_labels = json.loads(row['label'])\n",
    "\n",
    "        image_key = row['image']\n",
    "        \n",
    "        image = get_image_from_bucket(image_key)\n",
    "\n",
    "        image_height = image.shape[0]\n",
    "        image_width = image.shape[1]\n",
    "\n",
    "        def resize_and_add_to_img_array(resize_function):\n",
    "            bb_array = get_bounding_boxes_from_label_studio_labels(image_labels)\n",
    "            \n",
    "            bbs = BoundingBoxesOnImage(bb_array, shape=image.shape)\n",
    "\n",
    "            #plt.imshow(bbs.draw_on_image(image, size=3))\n",
    "\n",
    "            image_pad_function = iaa.Sequential([\n",
    "                iaa.PadToFixedSize(width=max_dimension, height=max_dimension, position='center', pad_mode='constant', pad_cval=(166, 166))\n",
    "            ])\n",
    "\n",
    "            image_resize, bbs_resize = resize_function(image=image, bounding_boxes=bbs)\n",
    "            image_aug, bbs_aug = image_pad_function(image=image_resize, bounding_boxes=bbs_resize)\n",
    "            \n",
    "            resized_image_key = f\"{resized_image_path_prefix}/{image_key}\"\n",
    "            save_image_to_bucket(resized_image_key, image_aug)\n",
    "            new_labels = get_labels_from_bounding_boxes(bbs_aug)\n",
    "            img_label = {'image': resized_image_key, 'label': json.dumps(new_labels, cls=NumpyFloatValuesEncoder)}\n",
    "            \n",
    "            aug_img_label_array.append(img_label)\n",
    "\n",
    "            # plt.imshow(bbs_aug.draw_on_image(image_aug, size=2))\n",
    "\n",
    "        if image_height >= image_width and image_height > max_dimension:\n",
    "            resize_and_add_to_img_array(height_resize)\n",
    "            \n",
    "        elif image_width > image_height and image_width > max_dimension:\n",
    "            resize_and_add_to_img_array(width_resize)\n",
    "        \n",
    "        else:\n",
    "            resize_and_add_to_img_array(lambda image, bounding_boxes : (image, bounding_boxes))\n",
    "            \n",
    "    return pd.DataFrame(aug_img_label_array) \n",
    "\n",
    "resize_df = resize_imgaug(labeldf)"
   ]
  },
  {
   "cell_type": "markdown",
   "metadata": {},
   "source": [
    "Let's run this method and save the resulting dataframe with labelling data to a variable.\n",
    "\n",
    "Then, we can use the previously defined method `save_labelling_data_as_csv` to add this as a csv file to the labelling bucket, to the path defined by variable `resized_data_bucket_path`. It will also be saved locally, to the current directory on your filesystem, with name defined by `resized_data_filename`."
   ]
  },
  {
   "cell_type": "code",
   "execution_count": null,
   "metadata": {},
   "outputs": [],
   "source": [
    "resize_df = resize_imgaug(labeldf)\n",
    "save_labelling_data_as_csv(resized_data_bucket_path, resized_data_filename, resize_df)"
   ]
  },
  {
   "cell_type": "markdown",
   "metadata": {},
   "source": [
    "## Transforming Images\n",
    "\n",
    "The following chapter will apply augmentations to images and move the corresponding bounding boxes. Imgaug allows us to tune many cool parameters. Let's define a couple:"
   ]
  },
  {
   "cell_type": "code",
   "execution_count": null,
   "metadata": {},
   "outputs": [],
   "source": [
    "aug = iaa.SomeOf(2, [    \n",
    "    iaa.Affine(scale=(0.5, 2), cval=(166, 166)),\n",
    "    iaa.Affine(rotate=(-60, 60), cval=(166, 166)),\n",
    "    iaa.Affine(translate_percent={\"x\": (-0.3, 0.3), \"y\": (-0.3, 0.3)}, cval=(166, 166)),\n",
    "    iaa.Fliplr(1),\n",
    "    iaa.Flipud(1),\n",
    "    iaa.Multiply((0.5, 1.5)),\n",
    "    iaa.GaussianBlur(sigma=(1.0, 3.0)),\n",
    "    iaa.AdditiveGaussianNoise(scale=(0.03*255, 0.05*255))\n",
    "])"
   ]
  },
  {
   "cell_type": "markdown",
   "metadata": {},
   "source": [
    "Next, we will define a function which would apply this augmentation to the images we just resized."
   ]
  },
  {
   "cell_type": "code",
   "execution_count": null,
   "metadata": {},
   "outputs": [],
   "source": [
    "def transform_imgaug(df, augmentor):\n",
    "    \n",
    "    aug_img_label_array = []\n",
    "    \n",
    "    for index, row in df.head(21).iterrows():\n",
    "\n",
    "        image_key = row['image']\n",
    "        image_labels = json.loads(row['label'])\n",
    "        \n",
    "        image = get_image_from_bucket(image_key)\n",
    "\n",
    "        bb_array = get_bounding_boxes_from_labels(image_labels)\n",
    "        bbs = BoundingBoxesOnImage(bb_array, shape=image.shape)\n",
    "\n",
    "        for index in range(2):\n",
    "            image_aug, bbs_aug = augmentor(image=image, bounding_boxes=bbs)\n",
    "        \n",
    "            bbs_aug = bbs_aug.remove_out_of_image()\n",
    "            bbs_aug = bbs_aug.clip_out_of_image()\n",
    "\n",
    "            # plt.imshow(bbs_aug.draw_on_image(image_aug, size=2))\n",
    "            \n",
    "            if re.findall('Image...', str(bbs_aug)) == ['Image([]']:\n",
    "                new_labels = []\n",
    "            else:\n",
    "                new_labels = get_labels_from_bounding_boxes(bbs_aug)\n",
    "            \n",
    "            transformed_image_key = f\"{transformed_image_path_prefix}/{image_key}-{index}.jpg\"\n",
    "            \n",
    "            save_image_to_bucket(transformed_image_key, image_aug)\n",
    "            img_label = {'image': transformed_image_key, 'label': json.dumps(new_labels, cls=NumpyFloatValuesEncoder)}\n",
    "                \n",
    "            aug_img_label_array.append(img_label)\n",
    "\n",
    "    return pd.DataFrame(aug_img_label_array)       "
   ]
  },
  {
   "cell_type": "markdown",
   "metadata": {},
   "source": [
    "Now, let's run this function to save the images to S3 and export labelling data to csv."
   ]
  },
  {
   "cell_type": "code",
   "execution_count": null,
   "metadata": {},
   "outputs": [],
   "source": [
    "resize_df = get_resized_labelling_data()\n",
    "transform_df = transform_imgaug(resize_df, aug)\n",
    "save_labelling_data_as_csv(transformed_data_bucket_path, transformed_data_filename, transform_df)"
   ]
  }
 ],
 "metadata": {
  "kernelspec": {
   "display_name": "machine-learning",
   "language": "python",
   "name": "machine-learning"
  },
  "language_info": {
   "codemirror_mode": {
    "name": "ipython",
    "version": 3
   },
   "file_extension": ".py",
   "mimetype": "text/x-python",
   "name": "python",
   "nbconvert_exporter": "python",
   "pygments_lexer": "ipython3",
   "version": "3.10.6"
  }
 },
 "nbformat": 4,
 "nbformat_minor": 5
}
